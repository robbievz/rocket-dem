{
 "cells": [
  {
   "cell_type": "markdown",
   "id": "42de1b01-ea02-4002-8976-ce8775230cd1",
   "metadata": {},
   "source": [
    "# Calcluate Intertial Matrix for a rocket"
   ]
  },
  {
   "cell_type": "code",
   "execution_count": 1,
   "id": "2fff5f7d-8b8f-40f6-b05a-a952b9037f99",
   "metadata": {},
   "outputs": [],
   "source": [
    "import sympy as sp\n",
    "import sympy.physics.mechanics as me \n",
    "import numpy as np\n",
    "from sympy.utilities.iterables import flatten\n",
    "\n",
    "sp.init_printing(use_latex='mathjax')"
   ]
  },
  {
   "cell_type": "code",
   "execution_count": 2,
   "id": "c36b6b2e-419d-4701-b9c7-d588e3da477a",
   "metadata": {},
   "outputs": [],
   "source": [
    "Ixx, Ixy, Ixz = sp.symbols('I_xx, I_xy, I_xz')\n",
    "Iyx, Iyy, Iyz = sp.symbols('I_yx, I_yy, I_yz')\n",
    "Izx, Izy, Izz = sp.symbols('I_zx, I_zy, I_zz')\n"
   ]
  },
  {
   "cell_type": "code",
   "execution_count": 3,
   "id": "679036bf-ad5d-46b5-8d2d-65c456d1f256",
   "metadata": {},
   "outputs": [],
   "source": [
    "I = sp.Matrix([[Ixx, -Ixy, -Ixz],[-Iyx, Iyy, -Iyz],[-Izx, -Izy, Izz]])"
   ]
  },
  {
   "cell_type": "code",
   "execution_count": 4,
   "id": "83c8e4ef-e188-4be4-b8f7-22ecd4acb164",
   "metadata": {},
   "outputs": [
    {
     "data": {
      "text/latex": [
       "$\\displaystyle \\left[\\begin{matrix}I_{xx} & - I_{xy} & - I_{xz}\\\\- I_{yx} & I_{yy} & - I_{yz}\\\\- I_{zx} & - I_{zy} & I_{zz}\\end{matrix}\\right]$"
      ],
      "text/plain": [
       "⎡ Iₓₓ   -I_xy  -I_xz⎤\n",
       "⎢                   ⎥\n",
       "⎢-I_yx  I_yy   -I_yz⎥\n",
       "⎢                   ⎥\n",
       "⎣-I_zx  -I_zy  I_zz ⎦"
      ]
     },
     "execution_count": 4,
     "metadata": {},
     "output_type": "execute_result"
    }
   ],
   "source": [
    "I"
   ]
  },
  {
   "cell_type": "markdown",
   "id": "d7a3c80c-d334-4584-ba4d-bae4cd54c673",
   "metadata": {},
   "source": [
    "# Point mass $m$ at $(x,y,z)$\n",
    "\n",
    "See https://physics.stackexchange.com/questions/614094/inertia-tensor-formula-for-point-masses-in-rigid-assembly for an explanation\n",
    "\n",
    "\n",
    "We are looking for the inertial matrix $I$ :\n",
    "\n",
    "$$\n",
    "I = \\left[\\begin{matrix}m \\left(y^{2} + z^{2}\\right) & - m x y & - m x z\\\\- m x y & m \\left(x^{2} + z^{2}\\right) & - m y z\\\\- m x z & - m y z & m \\left(x^{2} + y^{2}\\right)\\end{matrix}\\right]\n",
    "$$\n",
    "\n",
    "where $m$ is the point mass and $r$ is the vector from the center of rotation (usuall CG) to the mass:\n",
    "\n",
    "$$\n",
    "r = \\left[\\begin{matrix}x\\\\y\\\\z\\end{matrix}\\right]\n",
    "$$"
   ]
  },
  {
   "cell_type": "code",
   "execution_count": 5,
   "id": "2450a338-13a2-4b6a-a7cc-474c5b9e2c90",
   "metadata": {},
   "outputs": [],
   "source": [
    "# this is the inertial coordinate system\n",
    "N = me.ReferenceFrame('N')"
   ]
  },
  {
   "cell_type": "code",
   "execution_count": 6,
   "id": "4d4a0970-a8e5-4ccf-a83a-04041885197f",
   "metadata": {},
   "outputs": [],
   "source": [
    "# define the symbols\n",
    "x, y, z, m = sp.symbols('x, y, z, m')"
   ]
  },
  {
   "cell_type": "code",
   "execution_count": 7,
   "id": "e0d839a2-5b8c-435f-a3b1-094d269638d9",
   "metadata": {},
   "outputs": [],
   "source": [
    "r = x*N.x + y*N.y + z*N.z"
   ]
  },
  {
   "cell_type": "code",
   "execution_count": 8,
   "id": "65ec011f-cfa2-4470-ac09-1f8dc546aa3a",
   "metadata": {},
   "outputs": [
    {
     "data": {
      "text/latex": [
       "$\\displaystyle x\\mathbf{\\hat{n}_x} + y\\mathbf{\\hat{n}_y} + z\\mathbf{\\hat{n}_z}$"
      ],
      "text/plain": [
       "x n_x + y n_y + z n_z"
      ]
     },
     "execution_count": 8,
     "metadata": {},
     "output_type": "execute_result"
    }
   ],
   "source": [
    "r"
   ]
  },
  {
   "cell_type": "markdown",
   "id": "264c5ef2-2765-4979-9a3a-5532a1370aa8",
   "metadata": {},
   "source": [
    "## Formula to calculate I at $(x,y,z)$\n",
    "\n",
    "Point mass (m) located at $(x,y,z)$ in the inertial coordinate system (N)\n",
    "\n",
    "$$I = m(\\vec{r} \\cdot \\vec{r} - \\vec{r} \\otimes \\vec{r})$$\n"
   ]
  },
  {
   "cell_type": "code",
   "execution_count": 9,
   "id": "b8d66307-2389-4c29-a5ff-4664332aad01",
   "metadata": {},
   "outputs": [],
   "source": [
    "# see the reference above for the origin of this derivation\n",
    "Ipoint_mass_m = m*(sp.eye(3)*(r.to_matrix(N).T * r.to_matrix(N))[0] - r.to_matrix(N)*r.to_matrix(N).T)  "
   ]
  },
  {
   "cell_type": "code",
   "execution_count": 10,
   "id": "e4f4f71f-4fa2-49e8-bcdf-ddbb57269512",
   "metadata": {},
   "outputs": [
    {
     "data": {
      "text/latex": [
       "$\\displaystyle \\left[\\begin{matrix}m \\left(y^{2} + z^{2}\\right) & - m x y & - m x z\\\\- m x y & m \\left(x^{2} + z^{2}\\right) & - m y z\\\\- m x z & - m y z & m \\left(x^{2} + y^{2}\\right)\\end{matrix}\\right]$"
      ],
      "text/plain": [
       "⎡  ⎛ 2    2⎞                          ⎤\n",
       "⎢m⋅⎝y  + z ⎠    -m⋅x⋅y       -m⋅x⋅z   ⎥\n",
       "⎢                                     ⎥\n",
       "⎢               ⎛ 2    2⎞             ⎥\n",
       "⎢  -m⋅x⋅y     m⋅⎝x  + z ⎠    -m⋅y⋅z   ⎥\n",
       "⎢                                     ⎥\n",
       "⎢                            ⎛ 2    2⎞⎥\n",
       "⎣  -m⋅x⋅z       -m⋅y⋅z     m⋅⎝x  + y ⎠⎦"
      ]
     },
     "execution_count": 10,
     "metadata": {},
     "output_type": "execute_result"
    }
   ],
   "source": [
    "Ipoint_mass_m"
   ]
  },
  {
   "cell_type": "markdown",
   "id": "b29d88d8-7703-4f1b-a956-1bcd8ee068d8",
   "metadata": {},
   "source": [
    "### Create a python function from this formula\n",
    "\n",
    "With the follwing function signature:\n",
    "\n",
    "`func(m, x, y, z)`\n",
    "\n",
    "Where:\n",
    "- $m$ : point mass\n",
    "- $x,y,z$ : the coordinates of the point in the inertial coordinate system"
   ]
  },
  {
   "cell_type": "code",
   "execution_count": 11,
   "id": "b151807c-a304-4cde-b384-17505bb5b0d5",
   "metadata": {},
   "outputs": [],
   "source": [
    "\n",
    "Ipoint_mass_eval = sp.lambdify((m, x, y, z), Ipoint_mass_m, 'numpy')"
   ]
  },
  {
   "cell_type": "code",
   "execution_count": 12,
   "id": "e38a1f31-9aa1-41a0-9c14-96d5c1265ebc",
   "metadata": {},
   "outputs": [
    {
     "name": "stdout",
     "output_type": "stream",
     "text": [
      "Help on function _lambdifygenerated:\n",
      "\n",
      "_lambdifygenerated(m, x, y, z)\n",
      "    Created with lambdify. Signature:\n",
      "    \n",
      "    func(m, x, y, z)\n",
      "    \n",
      "    Expression:\n",
      "    \n",
      "    Matrix([[m*(y**2 + z**2), -m*x*y, -m*x*z], [-m*x*y, m*(x**2 + z**2),...\n",
      "    \n",
      "    Source code:\n",
      "    \n",
      "    def _lambdifygenerated(m, x, y, z):\n",
      "        return array([[m*(y**2 + z**2), -m*x*y, -m*x*z], [-m*x*y, m*(x**2 + z**2), -m*y*z], [-m*x*z, -m*y*z, m*(x**2 + y**2)]])\n",
      "    \n",
      "    \n",
      "    Imported modules:\n",
      "\n"
     ]
    }
   ],
   "source": [
    "help(Ipoint_mass_eval)"
   ]
  },
  {
   "cell_type": "code",
   "execution_count": 13,
   "id": "d30681e2-0b1a-43c5-8a6d-2e9c9b417af3",
   "metadata": {},
   "outputs": [
    {
     "data": {
      "text/plain": [
       "array([[0, 0, 0],\n",
       "       [0, 2, 0],\n",
       "       [0, 0, 2]])"
      ]
     },
     "execution_count": 13,
     "metadata": {},
     "output_type": "execute_result"
    }
   ],
   "source": [
    "# test the function: \n",
    "# this finds I of two 1kg masses located respectively at x=1 and x=-1\n",
    "Ipoint_mass_eval(1, 1, 0, 0) + Ipoint_mass_eval(1, -1, 0, 0)"
   ]
  },
  {
   "cell_type": "markdown",
   "id": "7466d171-6029-4172-9f08-4e606d2f2fe7",
   "metadata": {},
   "source": [
    "# Class describing a body\n",
    "It will be useful to create a simple class to describe bodies that make up a part\n",
    "\n",
    "A body is described by in a local (body) coordinate system by:\n",
    "1. a mass ($m$)\n",
    "1. location of the CG as a vector ($r$) in the body coordinate system $r = (x,y,z)$\n",
    "1. a moment of inertia matrix about the CG ($I_{CG}$)"
   ]
  },
  {
   "cell_type": "code",
   "execution_count": 14,
   "id": "21bfdadb-8d5e-412b-b24b-db9424acc8a6",
   "metadata": {},
   "outputs": [],
   "source": [
    "class Body():\n",
    "  \"\"\"A simple class to describe a single body. A body is modeled a point mass m located at r with \n",
    "  an optional rotational inertia matrix (inertia_matrix). In the case of a point mass the inertia \n",
    "  matrix is assumed to be a 3x3 matrix of zeros\n",
    "  Params:\n",
    "  =======\n",
    "  m (np.float for sympy.core.symbol.Symbol) - the mass \n",
    "  r (sympy.Matrix) - the vector to the point mass in the body reference frame (body coordinates)\n",
    "  inertia_matrix (numpy.array or sympy.Matrix) - the inertia matrix of the body arounds its center of gravity.\n",
    "  \n",
    "  Returns:\n",
    "  ========\n",
    "  body (Body)\n",
    "  \"\"\"\n",
    "  \n",
    "  \n",
    "  def __init__(self, mass=None, r=sp.Matrix([0,0,0]), inertia_matrix=sp.Matrix(np.zeros([3,3]))):\n",
    "    \n",
    "    self.m = mass\n",
    "    if type(r) == type(sp.Matrix()):\n",
    "      self.r = r\n",
    "    else:\n",
    "      self.r = sp.Matrix(r)\n",
    "  \n",
    "    if type(inertia_matrix) == type(sp.Matrix()):\n",
    "      self.im = inertia_matrix\n",
    "    else: \n",
    "      self.im = sp.Matrix(inertia_matrix)\n",
    "                              \n",
    "    "
   ]
  },
  {
   "cell_type": "markdown",
   "id": "008a2890-e91e-48e1-aaa4-d9603467a751",
   "metadata": {
    "tags": []
   },
   "source": [
    "## Mass 1\n",
    "point mass of 1$kg$ at $ r=[1, 0, 0]$\n",
    "\n",
    "i.e. the inertial matrix for a point mass is zeros"
   ]
  },
  {
   "cell_type": "code",
   "execution_count": 15,
   "id": "dad1391d-ce9a-45bc-ac4d-92678495bb29",
   "metadata": {},
   "outputs": [],
   "source": [
    "m1 = Body(1,  sp.Matrix([1,0,0]))"
   ]
  },
  {
   "cell_type": "markdown",
   "id": "7a261683-c986-4abd-bcfa-8b51feff402e",
   "metadata": {
    "tags": []
   },
   "source": [
    "## Mass 2\n",
    "point mass of 1$kg$ at $ r=[-1, 0, 0]$\n"
   ]
  },
  {
   "cell_type": "code",
   "execution_count": 16,
   "id": "0692c7fe-06a8-4bb5-b4b0-d9d4da080a6b",
   "metadata": {},
   "outputs": [],
   "source": [
    "m2 = Body(1,  sp.Matrix([-1,0,0]))"
   ]
  },
  {
   "cell_type": "markdown",
   "id": "7d775783-3087-4617-a74a-52fb6f5924b3",
   "metadata": {},
   "source": [
    "# Calc the CG of a list of bodies"
   ]
  },
  {
   "cell_type": "code",
   "execution_count": 17,
   "id": "ecf40ec3-f1cb-4323-994d-782df2793004",
   "metadata": {},
   "outputs": [],
   "source": [
    "def calcCG(pm_list):\n",
    "  \"\"\"Function to calculate the CG of a list of bodies.\n",
    "  Param:\n",
    "  ======\n",
    "  pm_list (list(Body)) - list of Body objects\n",
    "  Returns:\n",
    "  ========\n",
    "  CG - vector to the CofG\"\"\"\n",
    "  \n",
    "  # this is a hack to create a variable of type PointMass.r\n",
    "  m_times_r = pm_list[0].r * 0\n",
    "  m_tot = 0\n",
    "  \n",
    "  for pm in pm_list:\n",
    "    m_tot += pm.m\n",
    "    m_times_r += pm.m*pm.r\n",
    "    \n",
    "  return m_times_r/m_tot\n",
    "    "
   ]
  },
  {
   "cell_type": "code",
   "execution_count": 18,
   "id": "ef6cc439-a8ba-4181-83e2-8ae61683d7bc",
   "metadata": {},
   "outputs": [
    {
     "data": {
      "text/latex": [
       "$\\displaystyle \\left[\\begin{matrix}0\\\\0\\\\0\\end{matrix}\\right]$"
      ],
      "text/plain": [
       "⎡0⎤\n",
       "⎢ ⎥\n",
       "⎢0⎥\n",
       "⎢ ⎥\n",
       "⎣0⎦"
      ]
     },
     "execution_count": 18,
     "metadata": {},
     "output_type": "execute_result"
    }
   ],
   "source": [
    "# for m1 and m2 as specified above this should return zero\n",
    "calcCG([m1,m2])"
   ]
  },
  {
   "cell_type": "code",
   "execution_count": 19,
   "id": "d9960c9c-48d9-4bb4-bbd1-d1183f7330d2",
   "metadata": {},
   "outputs": [
    {
     "data": {
      "text/latex": [
       "$\\displaystyle \\left[\\begin{matrix}\\frac{1}{3}\\\\0\\\\0\\end{matrix}\\right]$"
      ],
      "text/plain": [
       "⎡1/3⎤\n",
       "⎢   ⎥\n",
       "⎢ 0 ⎥\n",
       "⎢   ⎥\n",
       "⎣ 0 ⎦"
      ]
     },
     "execution_count": 19,
     "metadata": {},
     "output_type": "execute_result"
    }
   ],
   "source": [
    "# cg should be [1/3, 0, 0].T\n",
    "m3 = Body(2,  sp.Matrix([1,0,0]))\n",
    "m4 = Body(1,  sp.Matrix([-1,0,0]))\n",
    "cg = calcCG([m3, m4])\n",
    "cg"
   ]
  },
  {
   "cell_type": "markdown",
   "id": "2f533b33-e08b-431f-b3be-3a72de8cc8e6",
   "metadata": {},
   "source": [
    "# Calc I in global coords\n",
    "See here for a reference http://www.kwon3d.com/theory/moi/triten.html   \n",
    "Check out equations 13 and 14\n",
    "\n",
    "$I' = I_{CG} + I_{translation}$\n"
   ]
  },
  {
   "cell_type": "code",
   "execution_count": null,
   "id": "e99d1794-9b09-4613-8ef4-080cd5fc4902",
   "metadata": {},
   "outputs": [],
   "source": []
  },
  {
   "cell_type": "code",
   "execution_count": 20,
   "id": "d87617ed-cf46-4273-9b3e-75316a2678f4",
   "metadata": {},
   "outputs": [],
   "source": [
    "def calcI(body_list, cg=None):\n",
    "  \"\"\"Function to calculate the rotational inertial matrix for a list of point masses.\n",
    "  Param:\n",
    "  pm_list (list(PointMass)) - list of PointMass objects\n",
    "  cg (sympy.Matrix) - the position of the Center of Gravity in world coordinates\n",
    "  Returns:\n",
    "  I (numpy.array) - the rotational inertial matrix\"\"\"\n",
    "  \n",
    "  # check parameters:\n",
    "  if not type(body_list)==list:\n",
    "    print('Requires a list of bodies as input parameter')\n",
    "    return\n",
    "  elif not type(body_list[0])==Body:\n",
    "    print('First element in list is not of type \"Body\"')\n",
    "    return\n",
    "  \n",
    "  # initialize the result array\n",
    "  I = np.zeros([3,3])\n",
    "  \n",
    "  # if cg == None then calulate the cg first\n",
    "  \n",
    "  if cg==None or cg=='calculate':\n",
    "    print('Calculating CG for body list')\n",
    "    cg = calcCG(body_list)\n",
    "  \n",
    "  # the inertial matrix is the sum of all the individual body inertial matrices\n",
    "  for pm in body_list:\n",
    "    # First add the inertia matrix around the CG in body coords\n",
    "    I = np.add(I,pm.im)\n",
    "    \n",
    "    # Then add the inertia matrix of the point body in global coords\n",
    "    I = np.add(I, Ipoint_mass_eval(pm.m, *flatten(pm.r-cg)))\n",
    "    \n",
    "    \n",
    "  return I\n",
    "  "
   ]
  },
  {
   "cell_type": "markdown",
   "id": "f413ea62-a487-4dd7-995e-2dac26d96be9",
   "metadata": {},
   "source": [
    "# Test\n",
    "Two masses of 1kg each at [0,0,1] should be equivalent to one mass of 2kg"
   ]
  },
  {
   "cell_type": "code",
   "execution_count": 21,
   "id": "59a3b024-9ca9-4534-8d76-7addbfd97975",
   "metadata": {},
   "outputs": [],
   "source": [
    "m1 = Body(2,  sp.Matrix([0,0,1]))\n",
    "m2 = Body(1,  sp.Matrix([0,0,1]))\n",
    "m3 = Body(2,  sp.Matrix([0,0,-1]))\n",
    "m4 = Body(1,  sp.Matrix([0,0,-1]))\n",
    "m5 = Body(3,  sp.Matrix([0,0,1]))\n",
    "m6 = Body(3,  sp.Matrix([0,0,-1]))\n"
   ]
  },
  {
   "cell_type": "code",
   "execution_count": 22,
   "id": "c7e0be75-1584-49e8-8bc6-64520c70fd28",
   "metadata": {},
   "outputs": [],
   "source": [
    "cg = calcCG([m1, m2, m3, m4])"
   ]
  },
  {
   "cell_type": "code",
   "execution_count": 23,
   "id": "fb5c5e97-a5ba-4842-befd-2aab65a0514f",
   "metadata": {},
   "outputs": [
    {
     "data": {
      "text/latex": [
       "$\\displaystyle \\left[\\begin{matrix}0\\\\0\\\\0\\end{matrix}\\right]$"
      ],
      "text/plain": [
       "⎡0⎤\n",
       "⎢ ⎥\n",
       "⎢0⎥\n",
       "⎢ ⎥\n",
       "⎣0⎦"
      ]
     },
     "execution_count": 23,
     "metadata": {},
     "output_type": "execute_result"
    }
   ],
   "source": [
    "cg"
   ]
  },
  {
   "cell_type": "code",
   "execution_count": 24,
   "id": "98ad37ba-c6c8-4c57-a51c-d129d09f122a",
   "metadata": {},
   "outputs": [
    {
     "name": "stdout",
     "output_type": "stream",
     "text": [
      "Calculating CG for body list\n"
     ]
    },
    {
     "data": {
      "text/plain": [
       "array([[6, 0, 0],\n",
       "       [0, 6, 0],\n",
       "       [0, 0, 0]], dtype=object)"
      ]
     },
     "execution_count": 24,
     "metadata": {},
     "output_type": "execute_result"
    }
   ],
   "source": [
    "calcI([m1, m2, m3, m4], cg='calculate')"
   ]
  },
  {
   "cell_type": "code",
   "execution_count": 25,
   "id": "313a3a35-16cf-4854-8273-dd7b59ac8920",
   "metadata": {},
   "outputs": [
    {
     "name": "stdout",
     "output_type": "stream",
     "text": [
      "Calculating CG for body list\n"
     ]
    },
    {
     "data": {
      "text/plain": [
       "array([[6, 0, 0],\n",
       "       [0, 6, 0],\n",
       "       [0, 0, 0]], dtype=object)"
      ]
     },
     "execution_count": 25,
     "metadata": {},
     "output_type": "execute_result"
    }
   ],
   "source": [
    "calcI([m5, m6], cg='calculate')"
   ]
  },
  {
   "cell_type": "code",
   "execution_count": 26,
   "id": "3aff2f10-4210-4825-b3eb-aa8583e67ebd",
   "metadata": {},
   "outputs": [
    {
     "name": "stdout",
     "output_type": "stream",
     "text": [
      "Calculating CG for body list\n"
     ]
    },
    {
     "data": {
      "text/plain": [
       "array([[24/5, 0, 0],\n",
       "       [0, 24/5, 0],\n",
       "       [0, 0, 0]], dtype=object)"
      ]
     },
     "execution_count": 26,
     "metadata": {},
     "output_type": "execute_result"
    }
   ],
   "source": [
    "calcI([m1, m2, m3], cg='calculate')"
   ]
  },
  {
   "cell_type": "code",
   "execution_count": 27,
   "id": "66525e81-105b-4959-9afd-093493145010",
   "metadata": {},
   "outputs": [],
   "source": [
    "# try the same in diffent planes"
   ]
  },
  {
   "cell_type": "code",
   "execution_count": 28,
   "id": "3a5f6912-8598-4442-afc0-50171e60aff4",
   "metadata": {},
   "outputs": [],
   "source": [
    "m1 = Body(1,  sp.Matrix([1,0,1]))\n",
    "m2 = Body(1,  sp.Matrix([1,0,1]))\n",
    "m3 = Body(1,  sp.Matrix([-1,0,-1]))\n",
    "m4 = Body(1,  sp.Matrix([-1,0,-1]))\n",
    "m5 = Body(2,  sp.Matrix([1,0,1]))\n",
    "m6 = Body(2,  sp.Matrix([-1,0,-1]))\n"
   ]
  },
  {
   "cell_type": "code",
   "execution_count": 29,
   "id": "5ca5a927-aeaa-4b6a-878f-ebc0682facf1",
   "metadata": {},
   "outputs": [
    {
     "data": {
      "text/latex": [
       "$\\displaystyle \\left[\\begin{matrix}0\\\\0\\\\0\\end{matrix}\\right]$"
      ],
      "text/plain": [
       "⎡0⎤\n",
       "⎢ ⎥\n",
       "⎢0⎥\n",
       "⎢ ⎥\n",
       "⎣0⎦"
      ]
     },
     "execution_count": 29,
     "metadata": {},
     "output_type": "execute_result"
    }
   ],
   "source": [
    "calcCG([m1, m2, m3, m4])"
   ]
  },
  {
   "cell_type": "code",
   "execution_count": 30,
   "id": "7337ceec-2068-4253-839b-e05a65aa040d",
   "metadata": {},
   "outputs": [
    {
     "name": "stdout",
     "output_type": "stream",
     "text": [
      "Calculating CG for body list\n"
     ]
    },
    {
     "data": {
      "text/plain": [
       "array([[4, 0, -4],\n",
       "       [0, 8, 0],\n",
       "       [-4, 0, 4]], dtype=object)"
      ]
     },
     "execution_count": 30,
     "metadata": {},
     "output_type": "execute_result"
    }
   ],
   "source": [
    "calcI([m1, m2, m3, m4], cg='calculate')"
   ]
  },
  {
   "cell_type": "code",
   "execution_count": 31,
   "id": "961f665a-c2d2-43c9-9ac9-e41da447ad82",
   "metadata": {},
   "outputs": [
    {
     "name": "stdout",
     "output_type": "stream",
     "text": [
      "Calculating CG for body list\n"
     ]
    },
    {
     "data": {
      "text/plain": [
       "array([[4, 0, -4],\n",
       "       [0, 8, 0],\n",
       "       [-4, 0, 4]], dtype=object)"
      ]
     },
     "execution_count": 31,
     "metadata": {},
     "output_type": "execute_result"
    }
   ],
   "source": [
    "calcI([m5, m6], cg='calculate')"
   ]
  },
  {
   "cell_type": "markdown",
   "id": "f780c133-d35d-479e-b41b-e839e33c7896",
   "metadata": {},
   "source": [
    "# Moment of Inertia for selected primitives"
   ]
  },
  {
   "cell_type": "markdown",
   "id": "776e1467-dc77-4d13-beaf-9d5ac68060b2",
   "metadata": {},
   "source": [
    "## Inertia of a thick walled Cylinder\n",
    "\n",
    "The most generalized primitive is a thick walled cylinder as it can describe:\n",
    "- solid cylinder\n",
    "- solid disc\n",
    "- ring\n",
    "- thin walled cylinder\n",
    "\n",
    "<img src=\"1920px-Moment_of_inertia_thick_cylinder_h.svg.png\" alt=\"Drawing\" style=\"width: 200px;\"/>\n",
    "\n",
    "https://en.wikipedia.org/wiki/List_of_moments_of_inertia"
   ]
  },
  {
   "cell_type": "code",
   "execution_count": 32,
   "id": "b0dec7e3-fba4-4549-88ca-a8a2f79bf8d6",
   "metadata": {},
   "outputs": [],
   "source": [
    "l, r1, r2, m = sp.symbols('l, r1, r2, m')"
   ]
  },
  {
   "cell_type": "code",
   "execution_count": 33,
   "id": "a3826861-46e2-4eef-a794-7a251a2827cb",
   "metadata": {},
   "outputs": [],
   "source": [
    "I_cyl = sp.Matrix([[m*(3*(r2**2+r1**2)+4*l**2)/12, 0, 0],\n",
    "                   [0, m*(3*(r2**2+r1**2)+4*l**2)/12, 0],\n",
    "                   [0, 0, m*(r2**2+r1**2)/2]])"
   ]
  },
  {
   "cell_type": "code",
   "execution_count": 34,
   "id": "8cfeb982-c5d9-42b1-8737-570459273055",
   "metadata": {},
   "outputs": [
    {
     "data": {
      "text/latex": [
       "$\\displaystyle \\left[\\begin{matrix}\\frac{m \\left(4 l^{2} + 3 r_{1}^{2} + 3 r_{2}^{2}\\right)}{12} & 0 & 0\\\\0 & \\frac{m \\left(4 l^{2} + 3 r_{1}^{2} + 3 r_{2}^{2}\\right)}{12} & 0\\\\0 & 0 & \\frac{m \\left(r_{1}^{2} + r_{2}^{2}\\right)}{2}\\end{matrix}\\right]$"
      ],
      "text/plain": [
       "⎡  ⎛   2       2       2⎞                                         ⎤\n",
       "⎢m⋅⎝4⋅l  + 3⋅r₁  + 3⋅r₂ ⎠                                         ⎥\n",
       "⎢────────────────────────             0                    0      ⎥\n",
       "⎢           12                                                    ⎥\n",
       "⎢                                                                 ⎥\n",
       "⎢                            ⎛   2       2       2⎞               ⎥\n",
       "⎢                          m⋅⎝4⋅l  + 3⋅r₁  + 3⋅r₂ ⎠               ⎥\n",
       "⎢           0              ────────────────────────        0      ⎥\n",
       "⎢                                     12                          ⎥\n",
       "⎢                                                                 ⎥\n",
       "⎢                                                      ⎛  2     2⎞⎥\n",
       "⎢                                                    m⋅⎝r₁  + r₂ ⎠⎥\n",
       "⎢           0                         0              ─────────────⎥\n",
       "⎣                                                          2      ⎦"
      ]
     },
     "execution_count": 34,
     "metadata": {},
     "output_type": "execute_result"
    }
   ],
   "source": [
    "# Inertia matrix about the CG of a generalized cylinder\n",
    "I_cyl"
   ]
  },
  {
   "cell_type": "markdown",
   "id": "c49a4f25-e493-4292-ae2d-9d1f0be1c0a1",
   "metadata": {},
   "source": [
    "### Create a python function from this formula\n",
    "\n",
    "With the follwing function signature:\n",
    "\n",
    "` func(m, l, r1, r2)`\n",
    "\n",
    "Where:\n",
    "- $m$ : point mass\n",
    "- $l$ : length (or height) of the cylinder\n",
    "- $r_1$ : inner radius of the cylinder wall\n",
    "- $r_2$ : outer radius of the cylinder wall\n"
   ]
  },
  {
   "cell_type": "code",
   "execution_count": 35,
   "id": "a855f428-d940-4105-85e6-c9a3b210dc20",
   "metadata": {},
   "outputs": [],
   "source": [
    "Icyl_eval = sp.lambdify((m, l, r1, r2), I_cyl)"
   ]
  },
  {
   "cell_type": "code",
   "execution_count": 36,
   "id": "bef6771a-4f6e-4e9a-b37a-56527e9f866f",
   "metadata": {},
   "outputs": [
    {
     "data": {
      "text/plain": [
       "array([[0.0833333333333333*m*(4*l**2 + 3*r1**2 + 3*r2**2), 0, 0],\n",
       "       [0, 0.0833333333333333*m*(4*l**2 + 3*r1**2 + 3*r2**2), 0],\n",
       "       [0, 0, 0.5*m*(r1**2 + r2**2)]], dtype=object)"
      ]
     },
     "execution_count": 36,
     "metadata": {},
     "output_type": "execute_result"
    }
   ],
   "source": [
    "# test with symbolic variables\n",
    "cylinder_m = m\n",
    "cylinder_length = l\n",
    "cylinder_r2 = r2\n",
    "cylinder_r1 = r1\n",
    "\n",
    "# the rotational inertia matrix around the cg of the body\n",
    "cyl_i = Icyl_eval(cylinder_m, cylinder_length, cylinder_r1, cylinder_r2)\n",
    "cyl_i"
   ]
  },
  {
   "cell_type": "code",
   "execution_count": 37,
   "id": "131429ed-ad37-4db6-88da-680be8cfd91d",
   "metadata": {},
   "outputs": [
    {
     "data": {
      "text/plain": [
       "array([[2.13633583e-02, 0.00000000e+00, 0.00000000e+00],\n",
       "       [0.00000000e+00, 2.13633583e-02, 0.00000000e+00],\n",
       "       [0.00000000e+00, 0.00000000e+00, 6.00500000e-05]])"
      ]
     },
     "execution_count": 37,
     "metadata": {},
     "output_type": "execute_result"
    }
   ],
   "source": [
    "# test with values\n",
    "\n",
    "cylinder_m = 0.1\n",
    "cylinder_length = 0.8\n",
    "cylinder_r2 = 0.025\n",
    "cylinder_r1 = 0.024\n",
    "\n",
    "# the rotational inertia matrix around the cg of the cylinder\n",
    "Icyl_cg = Icyl_eval(cylinder_m, cylinder_length, cylinder_r1, cylinder_r2, )\n",
    "Icyl_cg"
   ]
  },
  {
   "cell_type": "markdown",
   "id": "f68b0b50-30ce-4ba6-af88-911b4f444372",
   "metadata": {},
   "source": [
    "### Translational effect of cylinder CG at z=1"
   ]
  },
  {
   "cell_type": "code",
   "execution_count": 38,
   "id": "a30ac83c-7dc6-4f2f-86bf-0d471ffd8759",
   "metadata": {},
   "outputs": [
    {
     "data": {
      "text/plain": [
       "array([[ 0.1, -0. , -0. ],\n",
       "       [-0. ,  0.1, -0. ],\n",
       "       [-0. , -0. ,  0. ]])"
      ]
     },
     "execution_count": 38,
     "metadata": {},
     "output_type": "execute_result"
    }
   ],
   "source": [
    "Icyl_t = Ipoint_mass_eval(cylinder_m,0,0,1)\n",
    "Icyl_t"
   ]
  },
  {
   "cell_type": "code",
   "execution_count": 39,
   "id": "24e7a4b7-321d-43ba-a3cb-3b0749bee21e",
   "metadata": {},
   "outputs": [
    {
     "data": {
      "text/plain": [
       "array([[1.21363358e-01, 0.00000000e+00, 0.00000000e+00],\n",
       "       [0.00000000e+00, 1.21363358e-01, 0.00000000e+00],\n",
       "       [0.00000000e+00, 0.00000000e+00, 6.00500000e-05]])"
      ]
     },
     "execution_count": 39,
     "metadata": {},
     "output_type": "execute_result"
    }
   ],
   "source": [
    "# the final inertial matrix of the cylider around its CG and the translation of the CG\n",
    "Icyl_r = Icyl_cg + Icyl_t\n",
    "Icyl_r"
   ]
  },
  {
   "cell_type": "markdown",
   "id": "f19aeb01-d00a-4860-b2bf-c4bedeca4e98",
   "metadata": {},
   "source": [
    "## Inertia for Sphere\n",
    "\n",
    "<img src=\"1920px-Moment_of_inertia_solid_sphere.svg.png\" alt=\"Drawing\" style=\"width: 200px;\"/>\n",
    "\n",
    "https://en.wikipedia.org/wiki/List_of_moments_of_inertia"
   ]
  },
  {
   "cell_type": "code",
   "execution_count": 40,
   "id": "7825f9f4-866c-4f33-ad30-ba460ad33111",
   "metadata": {},
   "outputs": [],
   "source": [
    "r, m = sp.symbols('r, m')"
   ]
  },
  {
   "cell_type": "code",
   "execution_count": 41,
   "id": "6bcd33b7-3aa7-4559-a563-23a5e0d17b17",
   "metadata": {},
   "outputs": [],
   "source": [
    "I_sphere = 2*m*r**2/5* sp.Matrix([[1, 0, 0],\n",
    "                   [0, 1, 0],\n",
    "                   [0, 0, 1]])"
   ]
  },
  {
   "cell_type": "code",
   "execution_count": 42,
   "id": "fa3583ff-fae2-4e18-8c8e-06bc73908636",
   "metadata": {},
   "outputs": [
    {
     "data": {
      "text/latex": [
       "$\\displaystyle \\left[\\begin{matrix}\\frac{2 m r^{2}}{5} & 0 & 0\\\\0 & \\frac{2 m r^{2}}{5} & 0\\\\0 & 0 & \\frac{2 m r^{2}}{5}\\end{matrix}\\right]$"
      ],
      "text/plain": [
       "⎡     2                ⎤\n",
       "⎢2⋅m⋅r                 ⎥\n",
       "⎢──────    0       0   ⎥\n",
       "⎢  5                   ⎥\n",
       "⎢                      ⎥\n",
       "⎢             2        ⎥\n",
       "⎢        2⋅m⋅r         ⎥\n",
       "⎢  0     ──────    0   ⎥\n",
       "⎢          5           ⎥\n",
       "⎢                      ⎥\n",
       "⎢                     2⎥\n",
       "⎢                2⋅m⋅r ⎥\n",
       "⎢  0       0     ──────⎥\n",
       "⎣                  5   ⎦"
      ]
     },
     "execution_count": 42,
     "metadata": {},
     "output_type": "execute_result"
    }
   ],
   "source": [
    "# Inertia matrix about the CG of a sphere\n",
    "I_sphere"
   ]
  },
  {
   "cell_type": "markdown",
   "id": "2d9e1fd8-fa68-4105-bdce-11dc10b8aaba",
   "metadata": {},
   "source": [
    "### Create a python function from this formula\n",
    "\n",
    "With the follwing function signature:\n",
    "\n",
    "` func(r, m)`\n",
    "\n",
    "Where:\n",
    "- $r$ : radius\n",
    "- $m$ : mass of the sphere\n"
   ]
  },
  {
   "cell_type": "code",
   "execution_count": 43,
   "id": "0cae4350-9219-43fe-ac6e-6d37b77b98c7",
   "metadata": {},
   "outputs": [],
   "source": [
    "Isphere_eval = sp.lambdify((r, m), I_sphere)"
   ]
  },
  {
   "cell_type": "code",
   "execution_count": 44,
   "id": "27af6f9f-52ac-4eac-92dd-75a48db69cd2",
   "metadata": {},
   "outputs": [
    {
     "data": {
      "text/plain": [
       "array([[0.4, 0. , 0. ],\n",
       "       [0. , 0.4, 0. ],\n",
       "       [0. , 0. , 0.4]])"
      ]
     },
     "execution_count": 44,
     "metadata": {},
     "output_type": "execute_result"
    }
   ],
   "source": [
    "# test with values\n",
    "\n",
    "sphere_m = 1\n",
    "sphere_r = 1\n",
    "\n",
    "# the rotational inertia matrix around the cg of the sphere\n",
    "Isphere_cg = Isphere_eval(sphere_r, sphere_r)\n",
    "Isphere_cg"
   ]
  },
  {
   "cell_type": "code",
   "execution_count": 45,
   "id": "aa1e5f13-bc53-40e1-a67e-289d3a066831",
   "metadata": {},
   "outputs": [],
   "source": [
    "# Translational effect of cylinder CG at z=1"
   ]
  },
  {
   "cell_type": "code",
   "execution_count": 46,
   "id": "4900a81d-0b45-4ff6-a667-70f2b644e49d",
   "metadata": {},
   "outputs": [
    {
     "data": {
      "text/plain": [
       "array([[1, 0, 0],\n",
       "       [0, 1, 0],\n",
       "       [0, 0, 0]])"
      ]
     },
     "execution_count": 46,
     "metadata": {},
     "output_type": "execute_result"
    }
   ],
   "source": [
    "Isphere_t = Ipoint_mass_eval(sphere_m,0,0,1)\n",
    "Isphere_t"
   ]
  },
  {
   "cell_type": "code",
   "execution_count": 47,
   "id": "caf6f3e9-74aa-4799-aaa4-791d93a1e25a",
   "metadata": {},
   "outputs": [
    {
     "data": {
      "text/plain": [
       "array([[1.4, 0. , 0. ],\n",
       "       [0. , 1.4, 0. ],\n",
       "       [0. , 0. , 0.4]])"
      ]
     },
     "execution_count": 47,
     "metadata": {},
     "output_type": "execute_result"
    }
   ],
   "source": [
    "# the final inertial matrix of the cylider around its CG and the translation of the CG\n",
    "Icyl_r = Isphere_cg + Isphere_t\n",
    "Icyl_r"
   ]
  },
  {
   "cell_type": "markdown",
   "id": "a755ced6-d674-4e6c-b816-0f628bc04b62",
   "metadata": {},
   "source": [
    "## Inertia for Cube\n",
    "\n",
    "\n",
    "<img src=\"Moment_of_inertia_solid_rectangular_prism.png\" alt=\"Drawing\" style=\"width: 200px;\"/>\n",
    "\n",
    "https://en.wikipedia.org/wiki/List_of_moments_of_inertia"
   ]
  },
  {
   "cell_type": "code",
   "execution_count": 48,
   "id": "12429121-acb3-42b0-ba66-32b59a70f305",
   "metadata": {},
   "outputs": [],
   "source": [
    "h, d, w, m = sp.symbols('h, d, w, m')"
   ]
  },
  {
   "cell_type": "code",
   "execution_count": 49,
   "id": "36b769a5-1d4a-46a3-b5f9-7a025c1c1f96",
   "metadata": {},
   "outputs": [],
   "source": [
    "I_cube = (m/12) * sp.Matrix([[(h**2+d**2), 0, 0],\n",
    "                   [0, h**2+w**2, 0],\n",
    "                   [0, 0, w**2+d**2]])"
   ]
  },
  {
   "cell_type": "code",
   "execution_count": 50,
   "id": "2210114f-700b-4f5f-96d1-10c53475a665",
   "metadata": {},
   "outputs": [
    {
     "data": {
      "text/latex": [
       "$\\displaystyle \\left[\\begin{matrix}\\frac{m \\left(d^{2} + h^{2}\\right)}{12} & 0 & 0\\\\0 & \\frac{m \\left(h^{2} + w^{2}\\right)}{12} & 0\\\\0 & 0 & \\frac{m \\left(d^{2} + w^{2}\\right)}{12}\\end{matrix}\\right]$"
      ],
      "text/plain": [
       "⎡  ⎛ 2    2⎞                          ⎤\n",
       "⎢m⋅⎝d  + h ⎠                          ⎥\n",
       "⎢───────────       0            0     ⎥\n",
       "⎢     12                              ⎥\n",
       "⎢                                     ⎥\n",
       "⎢               ⎛ 2    2⎞             ⎥\n",
       "⎢             m⋅⎝h  + w ⎠             ⎥\n",
       "⎢     0       ───────────       0     ⎥\n",
       "⎢                  12                 ⎥\n",
       "⎢                                     ⎥\n",
       "⎢                            ⎛ 2    2⎞⎥\n",
       "⎢                          m⋅⎝d  + w ⎠⎥\n",
       "⎢     0            0       ───────────⎥\n",
       "⎣                               12    ⎦"
      ]
     },
     "execution_count": 50,
     "metadata": {},
     "output_type": "execute_result"
    }
   ],
   "source": [
    "# Inertia matrix about the CG of a sphere\n",
    "I_cube"
   ]
  },
  {
   "cell_type": "markdown",
   "id": "016389f7-980a-4a3d-9a47-7e50ecfc96f5",
   "metadata": {},
   "source": [
    "### Create a python function from this formula\n",
    "\n",
    "With the follwing function signature:\n",
    "\n",
    "` func(m, w, d, h)`\n",
    "\n",
    "Where:\n",
    "- $m$ : mass of the cube\n",
    "- $w$ : width of the cube (local x-direction)\n",
    "- $d$ : depth of the cube (local y-direction)\n",
    "- $h$ : height of the cube (local z-direction)\n"
   ]
  },
  {
   "cell_type": "code",
   "execution_count": 51,
   "id": "1775b7ea-9acf-4cf1-a7e3-d3c9ad0e8e3b",
   "metadata": {},
   "outputs": [],
   "source": [
    "Icube_eval = sp.lambdify((m, w, d, h), I_cube)"
   ]
  },
  {
   "cell_type": "code",
   "execution_count": 52,
   "id": "6d83a303-3909-40c6-8f4a-d16f15691c1d",
   "metadata": {},
   "outputs": [
    {
     "data": {
      "text/plain": [
       "array([[0.16666667, 0.        , 0.        ],\n",
       "       [0.        , 0.16666667, 0.        ],\n",
       "       [0.        , 0.        , 0.16666667]])"
      ]
     },
     "execution_count": 52,
     "metadata": {},
     "output_type": "execute_result"
    }
   ],
   "source": [
    "# test with values\n",
    "\n",
    "cube_w = 1\n",
    "cube_d = 1\n",
    "cube_h = 1\n",
    "cube_m = 1\n",
    "\n",
    "# the rotational inertia matrix around the cg of the sphere\n",
    "Icube_cg = Icube_eval(cube_m, cube_w, cube_d, cube_h , )\n",
    "Icube_cg"
   ]
  },
  {
   "cell_type": "code",
   "execution_count": 53,
   "id": "afa284c9-0229-445f-b24b-adbac9d08d56",
   "metadata": {},
   "outputs": [],
   "source": [
    "# Translational effect of cylinder CG at z=1"
   ]
  },
  {
   "cell_type": "code",
   "execution_count": 54,
   "id": "d3041745-9c01-48d9-9c88-f7ecbe92bbf8",
   "metadata": {},
   "outputs": [
    {
     "data": {
      "text/plain": [
       "array([[1.16666667, 0.        , 0.        ],\n",
       "       [0.        , 1.16666667, 0.        ],\n",
       "       [0.        , 0.        , 0.16666667]])"
      ]
     },
     "execution_count": 54,
     "metadata": {},
     "output_type": "execute_result"
    }
   ],
   "source": [
    "# the final inertial matrix of the cylider around its CG and the translation of the CG\n",
    "Icube_r = Icube_cg + Ipoint_mass_eval(cube_m,0,0,1)\n",
    "Icube_r\n"
   ]
  },
  {
   "cell_type": "code",
   "execution_count": 55,
   "id": "58e0be30-93fd-4849-b8ad-8fc050c1beee",
   "metadata": {},
   "outputs": [],
   "source": [
    "# Battery 150g at z=1m\n",
    "\n",
    "batt_i = Icube_eval(0.15, 0.027, 0.0385, 0.077)\n",
    "\n",
    "b_batt = Body(0.15,  sp.Matrix([0,0,1]), inertia_matrix=batt_i)"
   ]
  },
  {
   "cell_type": "code",
   "execution_count": 56,
   "id": "e7c08610-6841-4808-823e-f5cc5a10b860",
   "metadata": {},
   "outputs": [
    {
     "data": {
      "text/latex": [
       "$\\displaystyle \\left[\\begin{matrix}0\\\\0\\\\1.0\\end{matrix}\\right]$"
      ],
      "text/plain": [
       "⎡ 0 ⎤\n",
       "⎢   ⎥\n",
       "⎢ 0 ⎥\n",
       "⎢   ⎥\n",
       "⎣1.0⎦"
      ]
     },
     "execution_count": 56,
     "metadata": {},
     "output_type": "execute_result"
    }
   ],
   "source": [
    "calcCG([b_batt])"
   ]
  },
  {
   "cell_type": "code",
   "execution_count": 57,
   "id": "787af4dc-ec23-4a14-8c93-d54c1863ec68",
   "metadata": {},
   "outputs": [
    {
     "name": "stdout",
     "output_type": "stream",
     "text": [
      "Calculating CG for body list\n"
     ]
    },
    {
     "data": {
      "text/plain": [
       "array([[9.26406250000000e-5, 0, 0],\n",
       "       [0, 8.32250000000000e-5, 0],\n",
       "       [0, 0, 2.76406250000000e-5]], dtype=object)"
      ]
     },
     "execution_count": 57,
     "metadata": {},
     "output_type": "execute_result"
    }
   ],
   "source": [
    "# calc I around its CG \n",
    "calcI([b_batt] , cg='calculate')"
   ]
  },
  {
   "cell_type": "code",
   "execution_count": 58,
   "id": "999a8a1b-6006-4ea9-ba3e-ff31d4872a4b",
   "metadata": {},
   "outputs": [
    {
     "data": {
      "text/plain": [
       "array([[0.150092640625000, 0, 0],\n",
       "       [0, 0.150083225000000, 0],\n",
       "       [0, 0, 2.76406250000000e-5]], dtype=object)"
      ]
     },
     "execution_count": 58,
     "metadata": {},
     "output_type": "execute_result"
    }
   ],
   "source": [
    "# calc I around point (0,0,0)\n",
    "calcI([b_batt], cg=sp.Matrix([0,0,0]))\n"
   ]
  },
  {
   "cell_type": "markdown",
   "id": "683f3d04-a43a-4ef9-8752-d61b49be3f54",
   "metadata": {},
   "source": [
    "# Real Rocket"
   ]
  },
  {
   "cell_type": "markdown",
   "id": "e822a8f8-fb4f-4db0-b4e5-7994f82caab9",
   "metadata": {},
   "source": [
    "Body cooridnate system with [0,0,0] on the ground at the base of the rocket\n",
    "Assume:\n",
    "- the rocket stands 1m tall\n",
    "- the battery (150g) is located at the very top of the rocket $r=(0,0,1)$\n",
    "- two motors (25g each) are located at z=0.025 $r=(0,0,0.025)$\n",
    "- flight controller and ESCs (100g) located at $r=(0,0,0.6)$\n",
    "- rocket body is a 800mm cylinder standing 200mm off the ground with mass 100g diameter 50mm and wall thickness of 1mm  with CG located at $r=(0,0,0.6)$\n"
   ]
  },
  {
   "cell_type": "markdown",
   "id": "5a661e84-9ce4-4728-a48c-3f424749e6be",
   "metadata": {},
   "source": [
    "## Battery\n",
    "\n",
    "Battery specs: (from [here](https://www.getfpv.com/tattu-r-line-version-3-0-1300mah-4s-120c-lipo-battery.html?utm_source=google&utm_medium=cpc&utm_campaign=DM+-+B+-+PMax+-+Shop+-+SM+-+ALL&utm_content=pmax_x&utm_keyword=&utm_matchtype=&campaign_id=17881616054&network=x&device=c&gc_id=17881616054&gclid=CjwKCAjwgsqoBhBNEiwAwe5w08GJV8UB4zjtOnUhkqqcch9E3ep8q1jL9gUyLSYzRwADdakvn6F9ihoC5TwQAvD_BwE))   \n",
    "\n",
    "Net Weight(±20g): 150g\n",
    "Dimensions:77mm x 38.5mm x 27mm (L x W x H)"
   ]
  },
  {
   "cell_type": "code",
   "execution_count": 59,
   "id": "3a3f666a-2b20-4c0f-9458-0aadeea3a500",
   "metadata": {},
   "outputs": [],
   "source": [
    "# Battery 150g at z=1m\n",
    "\n",
    "b_batt = Body(0.15,  sp.Matrix([0,0,1]), \n",
    "              inertia_matrix=Icube_eval(0.15, 0.027, 0.0385, 0.077))"
   ]
  },
  {
   "cell_type": "markdown",
   "id": "0d76ee2b-e7e4-4b4e-a62e-7f671a7a5929",
   "metadata": {},
   "source": [
    "### Motors"
   ]
  },
  {
   "cell_type": "code",
   "execution_count": 60,
   "id": "8aa3b0b7-5054-407f-87dd-fc513ea97e54",
   "metadata": {},
   "outputs": [],
   "source": [
    "# Motors 2*50g at z=0.025 (m, l, r1, r2)\n",
    "b_mot = Body(0.1,  sp.Matrix([0,0,0.025]), \n",
    "             inertia_matrix=Icyl_eval(.1, 0.04, 0.0, 0.05)  )"
   ]
  },
  {
   "cell_type": "code",
   "execution_count": 61,
   "id": "ed02f85d-801a-4452-827b-0f34d610fe14",
   "metadata": {},
   "outputs": [],
   "source": [
    "# flight controller and escs 100g at z=0.600\n",
    "b_fc = Body(0.05,  sp.Matrix([0,0,0.6]))"
   ]
  },
  {
   "cell_type": "code",
   "execution_count": 62,
   "id": "084421d0-abf5-488e-8310-5a841732d84e",
   "metadata": {},
   "outputs": [],
   "source": [
    "# rocket body\n",
    "cylinder_m = 0.1\n",
    "cylinder_length = 0.8\n",
    "cylinder_r2 = 0.025\n",
    "cylinder_r1 = 0.024\n",
    "\n",
    "# the rotational inertia matrix around the cg of the cylinder\n",
    "cyl_i = Icyl_eval(cylinder_length, cylinder_r1, cylinder_r2, cylinder_m)"
   ]
  },
  {
   "cell_type": "code",
   "execution_count": 63,
   "id": "baa76ea4-45fd-4f38-b806-c42166115994",
   "metadata": {},
   "outputs": [],
   "source": [
    "# vector to the cylinder center of mass in world coord\n",
    "# assumes bottom of cylinder is 0.2m above z0\n",
    "cyl_above_z0 = 0.2\n",
    "r = sp.Matrix([0,0,cylinder_length/2+cyl_above_z0])\n",
    "# Create the body\n",
    "b_cyl = Body(cylinder_m, r=r, inertia_matrix=cyl_i)"
   ]
  },
  {
   "cell_type": "code",
   "execution_count": 64,
   "id": "cb016120-04cf-40ba-bc5e-1944a039badb",
   "metadata": {},
   "outputs": [],
   "source": [
    "# create the list of all the bodies\n",
    "body_list = [b_batt, b_mot, b_fc, b_cyl]"
   ]
  },
  {
   "cell_type": "code",
   "execution_count": 65,
   "id": "14847a08-9cd6-4d3c-a01f-a5d3b2830fcb",
   "metadata": {},
   "outputs": [
    {
     "data": {
      "text/latex": [
       "$\\displaystyle \\left[\\begin{matrix}0\\\\0\\\\0.60625\\end{matrix}\\right]$"
      ],
      "text/plain": [
       "⎡   0   ⎤\n",
       "⎢       ⎥\n",
       "⎢   0   ⎥\n",
       "⎢       ⎥\n",
       "⎣0.60625⎦"
      ]
     },
     "execution_count": 65,
     "metadata": {},
     "output_type": "execute_result"
    }
   ],
   "source": [
    "cg = calcCG(body_list)\n",
    "cg"
   ]
  },
  {
   "cell_type": "markdown",
   "id": "c7a17984-1c2c-4082-9768-1b1e63a197f7",
   "metadata": {},
   "source": [
    "The CG is located 606mm from the ground"
   ]
  },
  {
   "cell_type": "code",
   "execution_count": 66,
   "id": "94da0546-026b-4e61-9998-3b5e0a619564",
   "metadata": {},
   "outputs": [
    {
     "data": {
      "text/plain": [
       "array([[0.0595339489583333, 0, 0],\n",
       "       [0, 0.0595245333333333, 0],\n",
       "       [0, 0, 0.00440264062500000]], dtype=object)"
      ]
     },
     "execution_count": 66,
     "metadata": {},
     "output_type": "execute_result"
    }
   ],
   "source": [
    "calcI(body_list, cg=cg)"
   ]
  },
  {
   "cell_type": "markdown",
   "id": "8e654a43-79f9-4749-8fcc-ed0e7d705e49",
   "metadata": {},
   "source": [
    "## Get more complicated\n",
    "Add a 3D printed ring of four servos (28g each) on a structural circle of diameter 200m "
   ]
  },
  {
   "cell_type": "code",
   "execution_count": 67,
   "id": "4a77a42e-a27e-4638-80f8-59f271b2ece6",
   "metadata": {},
   "outputs": [],
   "source": [
    "# ring\n",
    "cylinder_m = 0.150\n",
    "cylinder_length = 0.01\n",
    "cylinder_r2 = 0.110\n",
    "cylinder_r1 = 0.1\n",
    "\n",
    "# the rotational inertia matrix around the cg of the cylinder\n",
    "ring_i = Icyl_eval(cylinder_m, cylinder_length, cylinder_r1, cylinder_r2 )\n",
    "\n",
    "# vector to the cylinder center of mass in world coord\n",
    "# assumes bottom of cylinder is at z0\n",
    "r = sp.Matrix([0,0,cylinder_length/2])\n",
    "# Create the body\n",
    "b_ring = Body(cylinder_m, r=r, inertia_matrix=ring_i)"
   ]
  },
  {
   "cell_type": "code",
   "execution_count": 68,
   "id": "8b10d87a-f60c-44da-9769-70c4af2bce44",
   "metadata": {},
   "outputs": [],
   "source": [
    "# 4 servos\n",
    "# Motors 2*50g at z=0.025\n",
    "b_serv1 = Body(0.025,  sp.Matrix([0.1,0,0]))\n",
    "b_serv2 = Body(0.025,  sp.Matrix([-0.1,0,0]))\n",
    "b_serv3 = Body(0.025,  sp.Matrix([0,0.1,0]))\n",
    "b_serv4 = Body(0.025,  sp.Matrix([0,-0.1,0]))"
   ]
  },
  {
   "cell_type": "code",
   "execution_count": 69,
   "id": "f7de70b6-3b71-4b0c-91de-ae6d02e1f1a8",
   "metadata": {},
   "outputs": [],
   "source": [
    "# create the list of all the bodies\n",
    "body_list =  [b_batt, b_mot, b_fc, b_cyl, b_ring, b_serv1, b_serv2, b_serv3,  b_serv4]"
   ]
  },
  {
   "cell_type": "code",
   "execution_count": 70,
   "id": "59e8ad36-fde1-4072-a856-a0fc4b982931",
   "metadata": {},
   "outputs": [
    {
     "data": {
      "text/latex": [
       "$\\displaystyle \\left[\\begin{matrix}0\\\\0\\\\0.374230769230769\\end{matrix}\\right]$"
      ],
      "text/plain": [
       "⎡        0        ⎤\n",
       "⎢                 ⎥\n",
       "⎢        0        ⎥\n",
       "⎢                 ⎥\n",
       "⎣0.374230769230769⎦"
      ]
     },
     "execution_count": 70,
     "metadata": {},
     "output_type": "execute_result"
    }
   ],
   "source": [
    "cg = calcCG(body_list)\n",
    "cg"
   ]
  },
  {
   "cell_type": "code",
   "execution_count": 80,
   "id": "4aebd423-a1ed-4d16-8fd8-0a77e00b5a12",
   "metadata": {},
   "outputs": [
    {
     "data": {
      "text/plain": [
       "array([[0.116855439342949, 0, 0],\n",
       "       [0, 0.116846023717949, 0],\n",
       "       [0, 0, 0.00706014062500000]], dtype=object)"
      ]
     },
     "execution_count": 80,
     "metadata": {},
     "output_type": "execute_result"
    }
   ],
   "source": [
    "rocket_I = calcI(body_list, cg=cg)\n",
    "rocket_I"
   ]
  },
  {
   "cell_type": "code",
   "execution_count": 75,
   "id": "917e7b98-ddfe-428e-94cb-6168a5b5b7ab",
   "metadata": {},
   "outputs": [],
   "source": [
    "import pickle"
   ]
  },
  {
   "cell_type": "code",
   "execution_count": 82,
   "id": "f660575f-449f-4677-bc99-fc5f003d9ced",
   "metadata": {},
   "outputs": [],
   "source": [
    "pickle.dump(rocket_I, open('rocket_I.p', 'wb'))"
   ]
  },
  {
   "cell_type": "code",
   "execution_count": 77,
   "id": "98dbc5c6-fe4b-4a40-8140-58c715d41f57",
   "metadata": {},
   "outputs": [],
   "source": [
    "test = pickle.load(open('test.p', 'rb'))"
   ]
  },
  {
   "cell_type": "code",
   "execution_count": 78,
   "id": "c6794024-3a1d-4d25-a613-526363d0c3d0",
   "metadata": {},
   "outputs": [
    {
     "data": {
      "text/plain": [
       "array([[0.0833333333333333*h*(3*m**2 + 3*r**2), 0, 0],\n",
       "       [0, 0.0833333333333333*h*(3*m**2 + 3*r**2), 0],\n",
       "       [0, 0, 0.5*h*(m**2 + r**2)]], dtype=object)"
      ]
     },
     "execution_count": 78,
     "metadata": {},
     "output_type": "execute_result"
    }
   ],
   "source": [
    "test"
   ]
  },
  {
   "cell_type": "code",
   "execution_count": null,
   "id": "8cf054e0-862f-4482-ad04-8d38bd6b4544",
   "metadata": {},
   "outputs": [],
   "source": []
  }
 ],
 "metadata": {
  "kernelspec": {
   "display_name": "Python 3 (ipykernel)",
   "language": "python",
   "name": "python3"
  },
  "language_info": {
   "codemirror_mode": {
    "name": "ipython",
    "version": 3
   },
   "file_extension": ".py",
   "mimetype": "text/x-python",
   "name": "python",
   "nbconvert_exporter": "python",
   "pygments_lexer": "ipython3",
   "version": "3.9.12"
  }
 },
 "nbformat": 4,
 "nbformat_minor": 5
}
