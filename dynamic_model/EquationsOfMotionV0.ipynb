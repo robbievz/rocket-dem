{
 "cells": [
  {
   "cell_type": "markdown",
   "id": "35bb8212-b705-4138-bed3-420a177d8e31",
   "metadata": {},
   "source": [
    "\n",
    "# Equations of Motion\n",
    "\n",
    "Notebook to test how to use Sympy for equations of motion."
   ]
  },
  {
   "cell_type": "code",
   "execution_count": 5,
   "id": "bc9d6aa2-a32e-4c6c-ad17-f3c084c0c0ef",
   "metadata": {},
   "outputs": [],
   "source": [
    "import sympy as sp\n",
    "import sympy.physics.mechanics as me \n",
    "import numpy as np\n",
    "from sympy.utilities.iterables import flatten\n",
    "\n",
    "sp.init_printing()"
   ]
  },
  {
   "cell_type": "code",
   "execution_count": 6,
   "id": "2d24a604-5ef3-4973-a542-345dadf33a2a",
   "metadata": {},
   "outputs": [],
   "source": [
    "u,v,w = sp.symbols(['u', 'v', 'w'])\n",
    "t = sp.symbols('t')"
   ]
  },
  {
   "cell_type": "code",
   "execution_count": 7,
   "id": "95151a08-31f2-4ab2-9329-ac476182c95b",
   "metadata": {},
   "outputs": [],
   "source": [
    "u = sp.Function('u')(t)\n",
    "v = sp.Function('v')(t)\n",
    "w = sp.Function('w')(t)"
   ]
  },
  {
   "cell_type": "code",
   "execution_count": 8,
   "id": "bb39f29e-83a9-4e8c-aa2b-04cb53520fb3",
   "metadata": {},
   "outputs": [
    {
     "data": {
      "text/latex": [
       "$\\displaystyle u{\\left(t \\right)}$"
      ],
      "text/plain": [
       "u(t)"
      ]
     },
     "execution_count": 8,
     "metadata": {},
     "output_type": "execute_result"
    }
   ],
   "source": [
    "u"
   ]
  },
  {
   "cell_type": "code",
   "execution_count": 9,
   "id": "d861d725-4f82-40ee-a58a-65a31cf31fbb",
   "metadata": {},
   "outputs": [],
   "source": [
    "V = sp.Matrix([u, v, w])"
   ]
  },
  {
   "cell_type": "code",
   "execution_count": null,
   "id": "1a8859af-d1c3-4b61-9c38-26257e907391",
   "metadata": {},
   "outputs": [],
   "source": []
  },
  {
   "cell_type": "code",
   "execution_count": 10,
   "id": "926372d0-0a89-48c7-a548-782d82d39060",
   "metadata": {},
   "outputs": [
    {
     "data": {
      "text/latex": [
       "$\\displaystyle \\left[\\begin{matrix}u{\\left(t \\right)}\\\\v{\\left(t \\right)}\\\\w{\\left(t \\right)}\\end{matrix}\\right]$"
      ],
      "text/plain": [
       "⎡u(t)⎤\n",
       "⎢    ⎥\n",
       "⎢v(t)⎥\n",
       "⎢    ⎥\n",
       "⎣w(t)⎦"
      ]
     },
     "execution_count": 10,
     "metadata": {},
     "output_type": "execute_result"
    }
   ],
   "source": [
    "V"
   ]
  },
  {
   "cell_type": "code",
   "execution_count": 11,
   "id": "0dfd3a62-00c0-4522-bc5a-185601c0afce",
   "metadata": {},
   "outputs": [
    {
     "data": {
      "text/latex": [
       "$\\displaystyle \\left[\\begin{matrix}\\frac{d}{d t} u{\\left(t \\right)}\\\\\\frac{d}{d t} v{\\left(t \\right)}\\\\\\frac{d}{d t} w{\\left(t \\right)}\\end{matrix}\\right]$"
      ],
      "text/plain": [
       "⎡d       ⎤\n",
       "⎢──(u(t))⎥\n",
       "⎢dt      ⎥\n",
       "⎢        ⎥\n",
       "⎢d       ⎥\n",
       "⎢──(v(t))⎥\n",
       "⎢dt      ⎥\n",
       "⎢        ⎥\n",
       "⎢d       ⎥\n",
       "⎢──(w(t))⎥\n",
       "⎣dt      ⎦"
      ]
     },
     "execution_count": 11,
     "metadata": {},
     "output_type": "execute_result"
    }
   ],
   "source": [
    "sp.diff(V, t)"
   ]
  },
  {
   "cell_type": "markdown",
   "id": "9821afc8-1afe-425f-91ed-3b6e5eedfb29",
   "metadata": {},
   "source": [
    "# First simple example of point mass\n",
    "Point mass m attached to string swinging around (0,0,0) with angular velocity $\\omega$\n",
    "\n",
    "1. Calculage initial conditions\n",
    "2. Calculate $\\vec{F}$  \n",
    "3. Integrate to get the positions"
   ]
  },
  {
   "cell_type": "markdown",
   "id": "6f05f392-99a8-4552-b907-21b4ac63bb26",
   "metadata": {},
   "source": [
    "### Initial conditions\n",
    "Particle starts at $(1, 0, 0)$ with velocity $(0,v,0)$ and spins in the $xy$ plane"
   ]
  },
  {
   "cell_type": "code",
   "execution_count": 12,
   "id": "3e9226b9-1d59-4e94-ab7a-8b06177a0ee6",
   "metadata": {},
   "outputs": [],
   "source": [
    "v_linear, mass, r0  = sp.symbols(['v', 'm', 'r_0'])\n",
    "t = sp.symbols('t')"
   ]
  },
  {
   "cell_type": "code",
   "execution_count": 13,
   "id": "80b97a1d-9a41-4c5c-a75f-f43e43e4cb86",
   "metadata": {},
   "outputs": [],
   "source": [
    "w, theta = sp.symbols(['omega', 'theta'])"
   ]
  },
  {
   "cell_type": "code",
   "execution_count": 14,
   "id": "a6b8a30d-a76d-4897-8c83-0ee87b4f83a5",
   "metadata": {},
   "outputs": [],
   "source": [
    "w = v_linear/r0"
   ]
  },
  {
   "cell_type": "code",
   "execution_count": 15,
   "id": "ef11905d-1f51-421b-be70-138f43be5589",
   "metadata": {},
   "outputs": [
    {
     "data": {
      "text/latex": [
       "$\\displaystyle \\frac{v}{r_{0}}$"
      ],
      "text/plain": [
       "v \n",
       "──\n",
       "r₀"
      ]
     },
     "execution_count": 15,
     "metadata": {},
     "output_type": "execute_result"
    }
   ],
   "source": [
    "w"
   ]
  },
  {
   "cell_type": "code",
   "execution_count": 16,
   "id": "c8149199-bacb-4d54-8f58-a92c22596432",
   "metadata": {},
   "outputs": [],
   "source": [
    "theta = w*t"
   ]
  },
  {
   "cell_type": "code",
   "execution_count": 17,
   "id": "fda178c3-1a05-4e6c-a61e-ec6d95af579a",
   "metadata": {},
   "outputs": [
    {
     "data": {
      "text/latex": [
       "$\\displaystyle \\frac{t v}{r_{0}}$"
      ],
      "text/plain": [
       "t⋅v\n",
       "───\n",
       " r₀"
      ]
     },
     "execution_count": 17,
     "metadata": {},
     "output_type": "execute_result"
    }
   ],
   "source": [
    "theta"
   ]
  },
  {
   "cell_type": "code",
   "execution_count": 18,
   "id": "6d7ddedc-f4a8-485d-a85e-76acd1f08fb7",
   "metadata": {},
   "outputs": [],
   "source": [
    "f = mass*w**2*r0"
   ]
  },
  {
   "cell_type": "code",
   "execution_count": 19,
   "id": "3798851f-9275-49c8-88ff-e903fa40bee6",
   "metadata": {},
   "outputs": [
    {
     "data": {
      "text/latex": [
       "$\\displaystyle \\frac{m v^{2}}{r_{0}}$"
      ],
      "text/plain": [
       "   2\n",
       "m⋅v \n",
       "────\n",
       " r₀ "
      ]
     },
     "execution_count": 19,
     "metadata": {},
     "output_type": "execute_result"
    }
   ],
   "source": [
    "f"
   ]
  },
  {
   "cell_type": "code",
   "execution_count": 20,
   "id": "e44ba4bb-065a-4f72-b65e-3a3195724c9f",
   "metadata": {},
   "outputs": [
    {
     "data": {
      "text/latex": [
       "$\\displaystyle \\left[\\begin{matrix}- \\frac{m v^{2} \\cos{\\left(\\frac{t v}{r_{0}} \\right)}}{r_{0}}\\\\- \\frac{m v^{2} \\sin{\\left(\\frac{t v}{r_{0}} \\right)}}{r_{0}}\\\\0\\end{matrix}\\right]$"
      ],
      "text/plain": [
       "⎡    2    ⎛t⋅v⎞ ⎤\n",
       "⎢-m⋅v ⋅cos⎜───⎟ ⎥\n",
       "⎢         ⎝ r₀⎠ ⎥\n",
       "⎢───────────────⎥\n",
       "⎢       r₀      ⎥\n",
       "⎢               ⎥\n",
       "⎢    2    ⎛t⋅v⎞ ⎥\n",
       "⎢-m⋅v ⋅sin⎜───⎟ ⎥\n",
       "⎢         ⎝ r₀⎠ ⎥\n",
       "⎢───────────────⎥\n",
       "⎢       r₀      ⎥\n",
       "⎢               ⎥\n",
       "⎣       0       ⎦"
      ]
     },
     "execution_count": 20,
     "metadata": {},
     "output_type": "execute_result"
    }
   ],
   "source": [
    "F = sp.Matrix([-f*sp.cos(theta), -f*sp.sin(theta), 0*theta])\n",
    "F"
   ]
  },
  {
   "cell_type": "code",
   "execution_count": 21,
   "id": "a2c90412-9261-4bcd-b7a0-ce7b582bf2ac",
   "metadata": {},
   "outputs": [
    {
     "data": {
      "text/latex": [
       "$\\displaystyle \\left[\\begin{matrix}- \\frac{m v^{2} \\cos{\\left(\\frac{t v}{r_{0}} \\right)}}{r_{0}}\\\\- \\frac{m v^{2} \\sin{\\left(\\frac{t v}{r_{0}} \\right)}}{r_{0}}\\\\0\\end{matrix}\\right]$"
      ],
      "text/plain": [
       "⎡    2    ⎛t⋅v⎞ ⎤\n",
       "⎢-m⋅v ⋅cos⎜───⎟ ⎥\n",
       "⎢         ⎝ r₀⎠ ⎥\n",
       "⎢───────────────⎥\n",
       "⎢       r₀      ⎥\n",
       "⎢               ⎥\n",
       "⎢    2    ⎛t⋅v⎞ ⎥\n",
       "⎢-m⋅v ⋅sin⎜───⎟ ⎥\n",
       "⎢         ⎝ r₀⎠ ⎥\n",
       "⎢───────────────⎥\n",
       "⎢       r₀      ⎥\n",
       "⎢               ⎥\n",
       "⎣       0       ⎦"
      ]
     },
     "execution_count": 21,
     "metadata": {},
     "output_type": "execute_result"
    }
   ],
   "source": [
    "F.subs({theta:w*t}).subs({ w:v_linear/r0 })"
   ]
  },
  {
   "cell_type": "code",
   "execution_count": 22,
   "id": "6f031417-fc0b-41e5-8008-7dff04deccfd",
   "metadata": {},
   "outputs": [
    {
     "data": {
      "text/latex": [
       "$\\displaystyle - v \\cos{\\left(t \\right)}$"
      ],
      "text/plain": [
       "-v⋅cos(t)"
      ]
     },
     "execution_count": 22,
     "metadata": {},
     "output_type": "execute_result"
    }
   ],
   "source": [
    "F.subs({theta:w*t}).subs({w:1, r0:1, mass:1})[0]"
   ]
  },
  {
   "cell_type": "code",
   "execution_count": 23,
   "id": "873b77cb-443a-4766-9e7b-adf2f8f2e91b",
   "metadata": {},
   "outputs": [
    {
     "data": {
      "text/latex": [
       "$\\displaystyle - v \\sin{\\left(t \\right)}$"
      ],
      "text/plain": [
       "-v⋅sin(t)"
      ]
     },
     "execution_count": 23,
     "metadata": {},
     "output_type": "execute_result"
    }
   ],
   "source": [
    "F.subs({theta:w*t}).subs({w:1, r0:1, mass:1})[1]"
   ]
  },
  {
   "cell_type": "code",
   "execution_count": 24,
   "id": "b26bc71d-fe07-454a-be7e-31ad08b93527",
   "metadata": {},
   "outputs": [
    {
     "data": {
      "image/png": "[encoded data removed]",
      "text/plain": [
       "<Figure size 640x480 with 1 Axes>"
      ]
     },
     "metadata": {},
     "output_type": "display_data"
    }
   ],
   "source": [
    "from sympy.plotting import plot\n",
    "t = sp.symbols('t')\n",
    "p1 = plot(F.subs({theta:w*t}).subs({w:1, r0:1, mass:1, v_linear:1})[0], show=False, label='Fx')\n",
    "p2 = plot(F.subs({theta:w*t}).subs({w:1, r0:1, mass:1, v_linear:1})[1], show=False, label='Fy')\n",
    "p1.extend(p2)\n",
    "p1.legend = True\n",
    "p1.show()"
   ]
  },
  {
   "cell_type": "code",
   "execution_count": 25,
   "id": "30b9223c-6295-4fc4-9836-286e7bae15e3",
   "metadata": {},
   "outputs": [
    {
     "data": {
      "text/latex": [
       "$\\displaystyle \\left[\\begin{matrix}- \\frac{m v^{2} \\cos{\\left(\\frac{t v}{r_{0}} \\right)}}{r_{0}}\\\\- \\frac{m v^{2} \\sin{\\left(\\frac{t v}{r_{0}} \\right)}}{r_{0}}\\\\0\\end{matrix}\\right]$"
      ],
      "text/plain": [
       "⎡    2    ⎛t⋅v⎞ ⎤\n",
       "⎢-m⋅v ⋅cos⎜───⎟ ⎥\n",
       "⎢         ⎝ r₀⎠ ⎥\n",
       "⎢───────────────⎥\n",
       "⎢       r₀      ⎥\n",
       "⎢               ⎥\n",
       "⎢    2    ⎛t⋅v⎞ ⎥\n",
       "⎢-m⋅v ⋅sin⎜───⎟ ⎥\n",
       "⎢         ⎝ r₀⎠ ⎥\n",
       "⎢───────────────⎥\n",
       "⎢       r₀      ⎥\n",
       "⎢               ⎥\n",
       "⎣       0       ⎦"
      ]
     },
     "execution_count": 25,
     "metadata": {},
     "output_type": "execute_result"
    }
   ],
   "source": [
    "F"
   ]
  },
  {
   "cell_type": "code",
   "execution_count": 26,
   "id": "95b58ce4-de4e-4db7-94f8-aba67b6e27f0",
   "metadata": {},
   "outputs": [],
   "source": [
    "xd,yd,zd = sp.symbols('xd, yd, zd')\n",
    "x_dot = sp.Matrix([xd,yd,zd])"
   ]
  },
  {
   "cell_type": "code",
   "execution_count": 27,
   "id": "04c04568-1107-4b8d-9ea2-92b3de833337",
   "metadata": {},
   "outputs": [
    {
     "data": {
      "text/latex": [
       "$\\displaystyle \\left\\{ xd : - \\frac{v^{2} \\cos{\\left(\\frac{t v}{r_{0}} \\right)}}{r_{0}}, \\  yd : - \\frac{v^{2} \\sin{\\left(\\frac{t v}{r_{0}} \\right)}}{r_{0}}, \\  zd : 0\\right\\}$"
      ],
      "text/plain": [
       "⎧      2    ⎛t⋅v⎞         2    ⎛t⋅v⎞        ⎫\n",
       "⎪    -v ⋅cos⎜───⎟       -v ⋅sin⎜───⎟        ⎪\n",
       "⎨           ⎝ r₀⎠              ⎝ r₀⎠        ⎬\n",
       "⎪xd: ─────────────, yd: ─────────────, zd: 0⎪\n",
       "⎩          r₀                 r₀            ⎭"
      ]
     },
     "execution_count": 27,
     "metadata": {},
     "output_type": "execute_result"
    }
   ],
   "source": [
    "sp.solve(mass*x_dot-F, x_dot)"
   ]
  },
  {
   "cell_type": "markdown",
   "id": "1a084af7-f733-47a3-aab5-ea7c5ca27a67",
   "metadata": {},
   "source": [
    "# States\n"
   ]
  },
  {
   "cell_type": "code",
   "execution_count": 28,
   "id": "fc06be15-e469-4263-9e38-64c6e0aaf70b",
   "metadata": {},
   "outputs": [],
   "source": [
    "from sympy.physics.mechanics import dynamicsymbols"
   ]
  },
  {
   "cell_type": "markdown",
   "id": "6a49ff85-c1c8-4fff-b59f-320e3056227b",
   "metadata": {},
   "source": [
    "$\\vec{X}$   \n",
    "$\\vec{V}$   \n",
    "$\\vec{\\Theta}$   \n",
    "$\\vec{\\Omega}$   \n"
   ]
  },
  {
   "cell_type": "code",
   "execution_count": 29,
   "id": "aec3af2b-7f9f-4b8d-be85-c3539503810d",
   "metadata": {},
   "outputs": [
    {
     "data": {
      "text/latex": [
       "$\\displaystyle \\left[\\begin{matrix}x{\\left(t \\right)}\\\\y{\\left(t \\right)}\\\\z{\\left(t \\right)}\\end{matrix}\\right]$"
      ],
      "text/plain": [
       "⎡x(t)⎤\n",
       "⎢    ⎥\n",
       "⎢y(t)⎥\n",
       "⎢    ⎥\n",
       "⎣z(t)⎦"
      ]
     },
     "execution_count": 29,
     "metadata": {},
     "output_type": "execute_result"
    }
   ],
   "source": [
    "x, y, z = dynamicsymbols(['x','y','z'])\n",
    "X = sp.Matrix([x, y, z])\n",
    "X"
   ]
  },
  {
   "cell_type": "code",
   "execution_count": 30,
   "id": "b715196a-cd3b-42cd-aa65-04342cf186de",
   "metadata": {},
   "outputs": [
    {
     "data": {
      "text/latex": [
       "$\\displaystyle \\left[\\begin{matrix}\\frac{d}{d t} x{\\left(t \\right)}\\\\\\frac{d}{d t} y{\\left(t \\right)}\\\\\\frac{d}{d t} z{\\left(t \\right)}\\end{matrix}\\right]$"
      ],
      "text/plain": [
       "⎡d       ⎤\n",
       "⎢──(x(t))⎥\n",
       "⎢dt      ⎥\n",
       "⎢        ⎥\n",
       "⎢d       ⎥\n",
       "⎢──(y(t))⎥\n",
       "⎢dt      ⎥\n",
       "⎢        ⎥\n",
       "⎢d       ⎥\n",
       "⎢──(z(t))⎥\n",
       "⎣dt      ⎦"
      ]
     },
     "execution_count": 30,
     "metadata": {},
     "output_type": "execute_result"
    }
   ],
   "source": [
    "V = sp.diff(X,t)\n",
    "V"
   ]
  },
  {
   "cell_type": "code",
   "execution_count": 31,
   "id": "58c9e55b-e5e4-4cdb-a9e4-e9c6e2a95c52",
   "metadata": {},
   "outputs": [
    {
     "data": {
      "text/latex": [
       "$\\displaystyle \\left[\\begin{matrix}u{\\left(t \\right)}\\\\v{\\left(t \\right)}\\\\w{\\left(t \\right)}\\end{matrix}\\right]$"
      ],
      "text/plain": [
       "⎡u(t)⎤\n",
       "⎢    ⎥\n",
       "⎢v(t)⎥\n",
       "⎢    ⎥\n",
       "⎣w(t)⎦"
      ]
     },
     "execution_count": 31,
     "metadata": {},
     "output_type": "execute_result"
    }
   ],
   "source": [
    "u, v, w = dynamicsymbols(['u','v','w'])\n",
    "V = sp.Matrix([u, v, w ])\n",
    "V"
   ]
  },
  {
   "cell_type": "code",
   "execution_count": 32,
   "id": "9e2d51f6-e28b-49e1-a5a6-e491ee7c19cc",
   "metadata": {},
   "outputs": [
    {
     "data": {
      "text/latex": [
       "$\\displaystyle \\left[\\begin{matrix}\\theta_{x}{\\left(t \\right)}\\\\\\theta_{y}{\\left(t \\right)}\\\\\\theta_{z}{\\left(t \\right)}\\end{matrix}\\right]$"
      ],
      "text/plain": [
       "⎡θₓ(t) ⎤\n",
       "⎢      ⎥\n",
       "⎢θ_y(t)⎥\n",
       "⎢      ⎥\n",
       "⎣θ_z(t)⎦"
      ]
     },
     "execution_count": 32,
     "metadata": {},
     "output_type": "execute_result"
    }
   ],
   "source": [
    "theta_x, theta_y, theta_z = dynamicsymbols(['theta_x','theta_y','theta_z'])\n",
    "theta = sp.Matrix([theta_x, theta_y, theta_z])\n",
    "theta"
   ]
  },
  {
   "cell_type": "code",
   "execution_count": 33,
   "id": "756bc0d4-1f07-42a8-af71-6861e12ccde7",
   "metadata": {},
   "outputs": [
    {
     "data": {
      "text/latex": [
       "$\\displaystyle \\left[\\begin{matrix}\\omega_{x}{\\left(t \\right)}\\\\\\omega_{y}{\\left(t \\right)}\\\\\\omega_{z}{\\left(t \\right)}\\end{matrix}\\right]$"
      ],
      "text/plain": [
       "⎡ωₓ(t) ⎤\n",
       "⎢      ⎥\n",
       "⎢ω_y(t)⎥\n",
       "⎢      ⎥\n",
       "⎣ω_z(t)⎦"
      ]
     },
     "execution_count": 33,
     "metadata": {},
     "output_type": "execute_result"
    }
   ],
   "source": [
    "omega_x, omega_y, omega_z = dynamicsymbols(['omega_x','omega_y','omega_z'])\n",
    "omega = sp.Matrix([omega_x, omega_y, omega_z])\n",
    "omega"
   ]
  },
  {
   "cell_type": "code",
   "execution_count": 34,
   "id": "4633af67-ed2f-43f8-9c2a-c350344b820f",
   "metadata": {},
   "outputs": [
    {
     "data": {
      "text/latex": [
       "$\\displaystyle \\left[\\begin{matrix}f_{x}\\\\f_{y}\\\\f_{z}\\end{matrix}\\right]$"
      ],
      "text/plain": [
       "⎡fₓ ⎤\n",
       "⎢   ⎥\n",
       "⎢f_y⎥\n",
       "⎢   ⎥\n",
       "⎣f_z⎦"
      ]
     },
     "execution_count": 34,
     "metadata": {},
     "output_type": "execute_result"
    }
   ],
   "source": [
    "fx, fy, fz = sp.symbols(['f_x','f_y','f_z'])\n",
    "F = sp.Matrix([fx, fy, fz])\n",
    "F"
   ]
  },
  {
   "cell_type": "code",
   "execution_count": 35,
   "id": "afca0402-39ec-4031-b024-072a82643483",
   "metadata": {},
   "outputs": [
    {
     "data": {
      "text/latex": [
       "$\\displaystyle \\left[\\begin{matrix}\\frac{d}{d t} u{\\left(t \\right)}\\\\\\frac{d}{d t} v{\\left(t \\right)}\\\\\\frac{d}{d t} w{\\left(t \\right)}\\end{matrix}\\right]$"
      ],
      "text/plain": [
       "⎡d       ⎤\n",
       "⎢──(u(t))⎥\n",
       "⎢dt      ⎥\n",
       "⎢        ⎥\n",
       "⎢d       ⎥\n",
       "⎢──(v(t))⎥\n",
       "⎢dt      ⎥\n",
       "⎢        ⎥\n",
       "⎢d       ⎥\n",
       "⎢──(w(t))⎥\n",
       "⎣dt      ⎦"
      ]
     },
     "execution_count": 35,
     "metadata": {},
     "output_type": "execute_result"
    }
   ],
   "source": [
    "sp.diff(V,t)"
   ]
  },
  {
   "cell_type": "code",
   "execution_count": 36,
   "id": "66209d0b-14e2-44fd-aab5-78e8df1a5c46",
   "metadata": {},
   "outputs": [
    {
     "data": {
      "text/latex": [
       "$\\displaystyle \\left[\\begin{matrix}u{\\left(t \\right)}\\\\v{\\left(t \\right)}\\\\w{\\left(t \\right)}\\end{matrix}\\right]$"
      ],
      "text/plain": [
       "⎡u(t)⎤\n",
       "⎢    ⎥\n",
       "⎢v(t)⎥\n",
       "⎢    ⎥\n",
       "⎣w(t)⎦"
      ]
     },
     "execution_count": 36,
     "metadata": {},
     "output_type": "execute_result"
    }
   ],
   "source": [
    "V"
   ]
  },
  {
   "cell_type": "code",
   "execution_count": 37,
   "id": "bb80643f-f91e-4ddb-867c-0527cc4078d1",
   "metadata": {},
   "outputs": [
    {
     "data": {
      "text/latex": [
       "$\\displaystyle \\left[\\begin{matrix}\\omega_{y}{\\left(t \\right)} w{\\left(t \\right)} - \\omega_{z}{\\left(t \\right)} v{\\left(t \\right)}\\\\- \\omega_{x}{\\left(t \\right)} w{\\left(t \\right)} + \\omega_{z}{\\left(t \\right)} u{\\left(t \\right)}\\\\\\omega_{x}{\\left(t \\right)} v{\\left(t \\right)} - \\omega_{y}{\\left(t \\right)} u{\\left(t \\right)}\\end{matrix}\\right]$"
      ],
      "text/plain": [
       "⎡ω_y(t)⋅w(t) - ω_z(t)⋅v(t)⎤\n",
       "⎢                         ⎥\n",
       "⎢-ωₓ(t)⋅w(t) + ω_z(t)⋅u(t)⎥\n",
       "⎢                         ⎥\n",
       "⎣ωₓ(t)⋅v(t) - ω_y(t)⋅u(t) ⎦"
      ]
     },
     "execution_count": 37,
     "metadata": {},
     "output_type": "execute_result"
    }
   ],
   "source": [
    "omega.cross(V)"
   ]
  },
  {
   "cell_type": "code",
   "execution_count": 38,
   "id": "952967c8-9039-4b60-b782-7c2723875a3a",
   "metadata": {},
   "outputs": [
    {
     "data": {
      "text/latex": [
       "$\\displaystyle \\left\\{ \\frac{d}{d t} u{\\left(t \\right)} : \\frac{f_{x}}{m} - \\omega_{y}{\\left(t \\right)} w{\\left(t \\right)} + \\omega_{z}{\\left(t \\right)} v{\\left(t \\right)}, \\  \\frac{d}{d t} v{\\left(t \\right)} : \\frac{f_{y}}{m} + \\omega_{x}{\\left(t \\right)} w{\\left(t \\right)} - \\omega_{z}{\\left(t \\right)} u{\\left(t \\right)}, \\  \\frac{d}{d t} w{\\left(t \\right)} : \\frac{f_{z}}{m} - \\omega_{x}{\\left(t \\right)} v{\\left(t \\right)} + \\omega_{y}{\\left(t \\right)} u{\\left(t \\right)}\\right\\}$"
      ],
      "text/plain": [
       "⎧d         fₓ                              d         f_y                      \n",
       "⎨──(u(t)): ── - ω_y(t)⋅w(t) + ω_z(t)⋅v(t), ──(v(t)): ─── + ωₓ(t)⋅w(t) - ω_z(t)\n",
       "⎩dt        m                               dt         m                       \n",
       "\n",
       "       d         f_z                           ⎫\n",
       "⋅u(t), ──(w(t)): ─── - ωₓ(t)⋅v(t) + ω_y(t)⋅u(t)⎬\n",
       "       dt         m                            ⎭"
      ]
     },
     "execution_count": 38,
     "metadata": {},
     "output_type": "execute_result"
    }
   ],
   "source": [
    "sp.solve(mass*sp.diff(V,t)+mass*omega.cross(V)-F,  sp.diff(V,t))"
   ]
  },
  {
   "cell_type": "code",
   "execution_count": 39,
   "id": "c2a6cf31-168c-4b53-949f-f0a6c97bd5f1",
   "metadata": {},
   "outputs": [
    {
     "data": {
      "text/latex": [
       "$\\displaystyle m$"
      ],
      "text/plain": [
       "m"
      ]
     },
     "execution_count": 39,
     "metadata": {},
     "output_type": "execute_result"
    }
   ],
   "source": [
    "mass"
   ]
  },
  {
   "cell_type": "code",
   "execution_count": 40,
   "id": "575b55bf-0cb7-4c95-8fc9-7447896717b7",
   "metadata": {},
   "outputs": [
    {
     "data": {
      "text/latex": [
       "$\\displaystyle \\left[\\begin{matrix}\\frac{f_{x} + m \\left(\\omega_{y}{\\left(t \\right)} w{\\left(t \\right)} - \\omega_{z}{\\left(t \\right)} v{\\left(t \\right)}\\right)}{m}\\\\\\frac{f_{y} + m \\left(- \\omega_{x}{\\left(t \\right)} w{\\left(t \\right)} + \\omega_{z}{\\left(t \\right)} u{\\left(t \\right)}\\right)}{m}\\\\\\frac{f_{z} + m \\left(\\omega_{x}{\\left(t \\right)} v{\\left(t \\right)} - \\omega_{y}{\\left(t \\right)} u{\\left(t \\right)}\\right)}{m}\\end{matrix}\\right]$"
      ],
      "text/plain": [
       "⎡fₓ + m⋅(ω_y(t)⋅w(t) - ω_z(t)⋅v(t)) ⎤\n",
       "⎢────────────────────────────────── ⎥\n",
       "⎢                m                  ⎥\n",
       "⎢                                   ⎥\n",
       "⎢f_y + m⋅(-ωₓ(t)⋅w(t) + ω_z(t)⋅u(t))⎥\n",
       "⎢───────────────────────────────────⎥\n",
       "⎢                 m                 ⎥\n",
       "⎢                                   ⎥\n",
       "⎢f_z + m⋅(ωₓ(t)⋅v(t) - ω_y(t)⋅u(t)) ⎥\n",
       "⎢────────────────────────────────── ⎥\n",
       "⎣                m                  ⎦"
      ]
     },
     "execution_count": 40,
     "metadata": {},
     "output_type": "execute_result"
    }
   ],
   "source": [
    "(F+mass*omega.cross(V))/mass"
   ]
  },
  {
   "cell_type": "code",
   "execution_count": null,
   "id": "960ff636-2afd-4bbe-9392-3da0ce7b30a9",
   "metadata": {},
   "outputs": [],
   "source": []
  }
 ],
 "metadata": {
  "kernelspec": {
   "display_name": "Python 3 (ipykernel)",
   "language": "python",
   "name": "python3"
  },
  "language_info": {
   "codemirror_mode": {
    "name": "ipython",
    "version": 3
   },
   "file_extension": ".py",
   "mimetype": "text/x-python",
   "name": "python",
   "nbconvert_exporter": "python",
   "pygments_lexer": "ipython3",
   "version": "3.9.12"
  }
 },
 "nbformat": 4,
 "nbformat_minor": 5
}
